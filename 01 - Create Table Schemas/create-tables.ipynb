{
 "cells": [
  {
   "cell_type": "code",
   "execution_count": 0,
   "metadata": {
    "application/vnd.databricks.v1+cell": {
     "cellMetadata": {
      "byteLimit": 2048000,
      "rowLimit": 10000
     },
     "inputWidgets": {},
     "nuid": "5021cdda-5b8f-4c3a-a609-635d7f38fe56",
     "showTitle": false,
     "tableResultSettingsMap": {},
     "title": ""
    }
   },
   "outputs": [],
   "source": [
    "CREATE SCHEMA IF NOT EXISTS weather;\n",
    "USE weather;"
   ]
  },
  {
   "cell_type": "code",
   "execution_count": 0,
   "metadata": {
    "application/vnd.databricks.v1+cell": {
     "cellMetadata": {
      "byteLimit": 2048000,
      "rowLimit": 10000
     },
     "inputWidgets": {},
     "nuid": "a96b6457-c7f5-4516-9d24-86024b5dbb32",
     "showTitle": false,
     "tableResultSettingsMap": {},
     "title": ""
    }
   },
   "outputs": [],
   "source": [
    "--------------------------------------------\n",
    "-- Create {BRONZE} Table\n",
    "--------------------------------------------\n",
    "\n",
    "CREATE TABLE IF NOT EXISTS bronze_weather_raw (\n",
    "  raw_payload STRING, -- Column to store raw json response\n",
    "  ingestion_timestamp TIMESTAMP,\n",
    "  ingestion_date DATE,\n",
    "  source_path STRING,\n",
    "  source_file STRING,\n",
    "  last_modified TIMESTAMP\n",
    ")\n",
    "USING DELTA\n",
    "LOCATION '/mnt/data/bronze/weather';"
   ]
  },
  {
   "cell_type": "code",
   "execution_count": 0,
   "metadata": {
    "application/vnd.databricks.v1+cell": {
     "cellMetadata": {
      "byteLimit": 2048000,
      "rowLimit": 10000
     },
     "inputWidgets": {},
     "nuid": "5fcbb9fe-accb-488f-ac5e-9ac6437e5750",
     "showTitle": false,
     "tableResultSettingsMap": {},
     "title": ""
    }
   },
   "outputs": [],
   "source": [
    "--------------------------------------------\n",
    "-- Create {SILVER} Tables\n",
    "--------------------------------------------\n",
    "CREATE TABLE IF NOT EXISTS silver_dim_location (\n",
    "  city_id INT,\n",
    "  city_name STRING,\n",
    "  country STRING,\n",
    "  region STRING,\n",
    "  latitude DOUBLE,\n",
    "  longitude DOUBLE,\n",
    "  timezone STRING\n",
    ")\n",
    "USING DELTA\n",
    "LOCATION '/mnt/data/silver/weather_dim_location';\n",
    "\n",
    "CREATE TABLE IF NOT EXISTS silver_weather_cleaned (\n",
    "  city_id INT,\n",
    "  observation_time_utf TIMESTAMP,\n",
    "  localtime TIMESTAMP,\n",
    "  temperature_celsius DOUBLE,\n",
    "  weather_code INT,\n",
    "  weather_description STRING,\n",
    "  wind_speed_kph DOUBLE,\n",
    "  wind_degree INT,\n",
    "  wind_direction STRING,\n",
    "  pressure_mb DOUBLE,\n",
    "  precipitation_mm DOUBLE,\n",
    "  humidity INT,\n",
    "  cloud_cover INT,\n",
    "  feels_like_celsius DOUBLE,\n",
    "  uv_index INT,\n",
    "  visibility_km DOUBLE,\n",
    "  ingestion_date DATE\n",
    ")\n",
    "USING DELTA\n",
    "LOCATION '/mnt/data/silver/weather_fct_cleaned';\n",
    "\n",
    "CREATE TABLE IF NOT EXISTS silver_air_quality_cleaned (\n",
    "  city_id INT,\n",
    "  observation_time_utf TIMESTAMP,\n",
    "  localtime TIMESTAMP,\n",
    "  air_co DOUBLE,\n",
    "  air_no2 DOUBLE,\n",
    "  air_o3 DOUBLE,\n",
    "  air_so2 DOUBLE,\n",
    "  air_pm2_5 DOUBLE,\n",
    "  air_pm10 DOUBLE,\n",
    "  air_quality_us_epa_index INT,\n",
    "  air_quality_gb_defra_index INT,\n",
    "  ingestion_date DATE\n",
    ")\n",
    "USING DELTA\n",
    "LOCATION '/mnt/data/silver/weather_air_quality_cleaned';"
   ]
  },
  {
   "cell_type": "code",
   "execution_count": 0,
   "metadata": {
    "application/vnd.databricks.v1+cell": {
     "cellMetadata": {
      "byteLimit": 2048000,
      "rowLimit": 10000
     },
     "inputWidgets": {},
     "nuid": "76bf12b4-deb8-4a3e-bb06-4bd70ab019d3",
     "showTitle": false,
     "tableResultSettingsMap": {},
     "title": ""
    }
   },
   "outputs": [],
   "source": [
    "--------------------------------------------\n",
    "-- {GOLD} Tables will be created directly\n",
    "-- from the pipelines notebooks using\n",
    "-- CREATE OR REPLACE TABLE ... AS SELECT ...\n",
    "--------------------------------------------"
   ]
  }
 ],
 "metadata": {
  "application/vnd.databricks.v1+notebook": {
   "computePreferences": null,
   "dashboards": [],
   "environmentMetadata": {
    "base_environment": "",
    "environment_version": "2"
   },
   "inputWidgetPreferences": null,
   "language": "sql",
   "notebookMetadata": {
    "pythonIndentUnit": 4
   },
   "notebookName": "create-tables",
   "widgets": {}
  },
  "language_info": {
   "name": "sql"
  }
 },
 "nbformat": 4,
 "nbformat_minor": 0
}
