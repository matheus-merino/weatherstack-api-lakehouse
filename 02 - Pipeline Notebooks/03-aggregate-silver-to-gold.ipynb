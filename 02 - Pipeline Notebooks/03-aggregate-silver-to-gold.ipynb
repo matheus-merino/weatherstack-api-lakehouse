{
 "cells": [
  {
   "cell_type": "code",
   "execution_count": 0,
   "metadata": {
    "application/vnd.databricks.v1+cell": {
     "cellMetadata": {
      "byteLimit": 2048000,
      "rowLimit": 10000
     },
     "inputWidgets": {},
     "nuid": "2eb6aaf9-8ecc-4ed2-bc2f-1f98a5fa07ff",
     "showTitle": false,
     "tableResultSettingsMap": {},
     "title": ""
    }
   },
   "outputs": [],
   "source": [
    "USE weather;"
   ]
  },
  {
   "cell_type": "code",
   "execution_count": 0,
   "metadata": {
    "application/vnd.databricks.v1+cell": {
     "cellMetadata": {
      "byteLimit": 2048000,
      "rowLimit": 10000
     },
     "inputWidgets": {},
     "nuid": "5348ad0b-2e21-4b9b-ae57-0c730f055a9e",
     "showTitle": false,
     "tableResultSettingsMap": {},
     "title": ""
    }
   },
   "outputs": [],
   "source": [
    "----------------------------\n",
    "-- CURRENT WEATHER SNAPSHOT\n",
    "----------------------------\n",
    "CREATE OR REPLACE TABLE weather.gold_current_weather_snapshot\n",
    "USING DELTA\n",
    "LOCATION '/mnt/data/gold/weather_current_snapshot'\n",
    "AS\n",
    "  SELECT\n",
    "    l.city_id,\n",
    "    l.city_name,\n",
    "    l.country,\n",
    "    w.localtime,\n",
    "    w.temperature_celsius,\n",
    "    w.feels_like_celsius,\n",
    "    w.weather_description,\n",
    "    w.humidity,\n",
    "    w.wind_speed_kph,\n",
    "    w.pressure_mb,\n",
    "    w.precipitation_mm\n",
    "  FROM weather.silver_weather_cleaned w\n",
    "  JOIN weather.silver_dim_location l\n",
    "  ON w.city_id = l.city_id\n",
    "  WHERE w.ingestion_date = (SELECT MAX(ingestion_date) FROM weather.silver_weather_cleaned)\n",
    "  ORDER BY l.city_id;"
   ]
  },
  {
   "cell_type": "code",
   "execution_count": 0,
   "metadata": {
    "application/vnd.databricks.v1+cell": {
     "cellMetadata": {
      "byteLimit": 2048000,
      "rowLimit": 10000
     },
     "inputWidgets": {},
     "nuid": "8b0ac911-37b7-456a-bd62-313495d58051",
     "showTitle": false,
     "tableResultSettingsMap": {},
     "title": ""
    }
   },
   "outputs": [],
   "source": [
    "-----------------------------\n",
    "-- GENERAL AGGREGATES BY CITY\n",
    "-----------------------------\n",
    "CREATE OR REPLACE TABLE weather.gold_aggregates_by_city\n",
    "USING DELTA\n",
    "LOCATION '/mnt/data/gold/weather_aggregates_by_city'\n",
    "AS\n",
    "  SELECT\n",
    "    l.city_id,\n",
    "    l.city_name,\n",
    "    -- Temperature\n",
    "    AVG(w.temperature_celsius) avg_temperature,\n",
    "    MIN(w.temperature_celsius) min_temperature,\n",
    "    MAX(w.temperature_celsius) max_temperature,\n",
    "    -- Humidity\n",
    "    AVG(w.humidity) avg_humidity,\n",
    "    MIN(w.humidity) min_humidity,\n",
    "    MAX(w.humidity) max_humidity,\n",
    "    -- Wind Speed\n",
    "    AVG(w.wind_speed_kph) avg_wind_speed,\n",
    "    MIN(w.wind_speed_kph) min_wind_speed,\n",
    "    MAX(w.wind_speed_kph) max_wind_speed\n",
    "\n",
    "  FROM weather.silver_weather_cleaned w\n",
    "  JOIN weather.silver_dim_location l\n",
    "  ON w.city_id = l.city_id\n",
    "  GROUP BY l.city_id, l.city_name\n",
    "  ORDER BY l.city_id;"
   ]
  },
  {
   "cell_type": "code",
   "execution_count": 0,
   "metadata": {
    "application/vnd.databricks.v1+cell": {
     "cellMetadata": {
      "byteLimit": 2048000,
      "rowLimit": 10000
     },
     "inputWidgets": {},
     "nuid": "991e3cc7-60b5-4d1c-9fae-15691388d205",
     "showTitle": false,
     "tableResultSettingsMap": {},
     "title": ""
    }
   },
   "outputs": [],
   "source": [
    "--------------------------------\n",
    "-- 7 DAYS MOVING AVERAGES REPORT\n",
    "--------------------------------\n",
    "CREATE OR REPLACE TABLE weather.gold_7days_moving_avgs\n",
    "USING DELTA\n",
    "LOCATION '/mnt/data/gold/weather_7days_moving_avgs'\n",
    "AS\n",
    "  WITH weather_data AS (\n",
    "    SELECT\n",
    "      l.city_id,\n",
    "      l.city_name,\n",
    "      CAST(DATE_TRUNC('day', w.observation_time_utf) AS DATE) observation_date,\n",
    "      w.temperature_celsius,\n",
    "      w.humidity,\n",
    "      w.wind_speed_kph,\n",
    "      w.precipitation_mm\n",
    "    FROM weather.silver_weather_cleaned w\n",
    "    JOIN weather.silver_dim_location l\n",
    "    ON w.city_id = l.city_id\n",
    "  )\n",
    "  SELECT\n",
    "    city_id,\n",
    "    city_name,\n",
    "    observation_date,\n",
    "    ROUND(AVG(temperature_celsius) OVER (PARTITION BY city_id ORDER BY observation_date ROWS BETWEEN 6 PRECEDING AND CURRENT ROW), 2) avg_temperature_7_days,\n",
    "    ROUND(AVG(humidity) OVER (PARTITION BY city_id ORDER BY observation_date ROWS BETWEEN 6 PRECEDING AND CURRENT ROW), 2) avg_humidity_7_days,\n",
    "    ROUND(AVG(wind_speed_kph) OVER (PARTITION BY city_id ORDER BY observation_date ROWS BETWEEN 6 PRECEDING AND CURRENT ROW), 2) avg_wind_speed_7_days,\n",
    "    ROUND(SUM(precipitation_mm) OVER (PARTITION BY city_id ORDER BY observation_date ROWS BETWEEN 6 PRECEDING AND CURRENT ROW), 2) total_precipitation_7_days\n",
    "  FROM weather_data;"
   ]
  },
  {
   "cell_type": "code",
   "execution_count": 0,
   "metadata": {
    "application/vnd.databricks.v1+cell": {
     "cellMetadata": {
      "byteLimit": 2048000,
      "rowLimit": 10000
     },
     "inputWidgets": {},
     "nuid": "c58a86f0-9283-4fbf-b2e8-2a86da746bc5",
     "showTitle": false,
     "tableResultSettingsMap": {},
     "title": ""
    }
   },
   "outputs": [],
   "source": [
    "---------------------------------------\n",
    "-- WEATHER EVENTS SUMMARY (LAST 30 DAYS)\n",
    "---------------------------------------\n",
    "CREATE OR REPLACE TABLE weather.gold_weather_events_summary\n",
    "USING DELTA\n",
    "LOCATION '/mnt/data/gold/weather_events_summary'\n",
    "AS\n",
    "  SELECT\n",
    "    l.city_name,\n",
    "    'Last 30 Days' AS analys_period,\n",
    "    SUM(CASE WHEN w.temperature_celsius > 30 THEN 1 ELSE 0 END) hot_days_count,\n",
    "    SUM(CASE WHEN w.temperature_celsius < 15 THEN 1 ELSE 0 END) cold_days_count,\n",
    "    SUM(CASE WHEN w.temperature_celsius < 0 THEN 1 ELSE 0 END) frost_days_count,\n",
    "    SUM(CASE WHEN w.precipitation_mm > 1 THEN 1 ELSE 0 END) rainy_days_count\n",
    "  FROM weather.silver_weather_cleaned w\n",
    "  JOIN weather.silver_dim_location l\n",
    "  ON w.city_id = l.city_id\n",
    "  WHERE w.observation_time_utf >= current_date() - INTERVAL 30 DAYS\n",
    "  GROUP BY l.city_name;"
   ]
  }
 ],
 "metadata": {
  "application/vnd.databricks.v1+notebook": {
   "computePreferences": null,
   "dashboards": [],
   "environmentMetadata": {
    "base_environment": "",
    "environment_version": "2"
   },
   "inputWidgetPreferences": null,
   "language": "sql",
   "notebookMetadata": {
    "pythonIndentUnit": 4
   },
   "notebookName": "03-aggregate-silver-to-gold",
   "widgets": {}
  },
  "language_info": {
   "name": "sql"
  }
 },
 "nbformat": 4,
 "nbformat_minor": 0
}
