{
 "cells": [
  {
   "cell_type": "code",
   "execution_count": 0,
   "metadata": {
    "application/vnd.databricks.v1+cell": {
     "cellMetadata": {
      "byteLimit": 2048000,
      "implicitDf": true,
      "rowLimit": 10000
     },
     "inputWidgets": {},
     "nuid": "47efe64d-2a03-46f6-b5a3-f59089fcd677",
     "showTitle": false,
     "tableResultSettingsMap": {},
     "title": ""
    }
   },
   "outputs": [],
   "source": [
    "from pyspark.sql.functions import col, from_json, to_date, when, concat, lit, to_timestamp, current_date\n",
    "from pyspark.sql.types import StructType, StructField, StringType, IntegerType, DoubleType, TimestampType, ArrayType\n",
    "\n",
    "# Bronze info to read from\n",
    "bronze_table_path = '/mnt/data/bronze/weather'\n",
    "\n",
    "# Silver location info\n",
    "silver_dim_location_path = '/mnt/data/silver/weather_dim_location'\n",
    "silver_dim_location_name = 'weather.silver_dim_location'\n",
    "\n",
    "# Silver weather info\n",
    "silver_weather_path = '/mnt/data/silver/weather_fct_cleaned'\n",
    "silver_weather_name = 'weather.silver_weather_cleaned'\n",
    "\n",
    "# Silver air quality info\n",
    "silver_air_quality_path = '/mnt/data/silver/weather_air_quality_cleaned'\n",
    "silver_air_quality_name = 'weather.silver_air_quality_cleaned'"
   ]
  },
  {
   "cell_type": "code",
   "execution_count": 0,
   "metadata": {
    "application/vnd.databricks.v1+cell": {
     "cellMetadata": {
      "byteLimit": 2048000,
      "rowLimit": 10000
     },
     "inputWidgets": {},
     "nuid": "3d52bce9-5e13-49ee-815b-5ffd2caf4f83",
     "showTitle": false,
     "tableResultSettingsMap": {},
     "title": ""
    }
   },
   "outputs": [],
   "source": [
    "bronze_df_full = spark.read.format('delta').load(bronze_table_path)\n",
    "bronze_df_incremental = bronze_df_full.filter(col(\"ingestion_date\") == current_date()) # Daily we only read new data ingested that day\n",
    "\n",
    "print(f\"Total bronze table records: {bronze_df_full.count()}\")\n",
    "print(f\"Found {bronze_df_incremental.count()} new records to process today.\")\n",
    "bronze_df_incremental.show()"
   ]
  },
  {
   "cell_type": "code",
   "execution_count": 0,
   "metadata": {
    "application/vnd.databricks.v1+cell": {
     "cellMetadata": {
      "byteLimit": 2048000,
      "rowLimit": 10000
     },
     "inputWidgets": {},
     "nuid": "c086baf8-ef6b-4a8e-bd19-0bafa083e128",
     "showTitle": false,
     "tableResultSettingsMap": {},
     "title": ""
    }
   },
   "outputs": [],
   "source": [
    "# Defining the json schema (only considering the important fields that will be taken to silver layer)\n",
    "json_schema = StructType([\n",
    "    StructField(\"location\", StructType([\n",
    "        StructField(\"name\", StringType(), True),\n",
    "        StructField(\"country\", StringType(), True),\n",
    "        StructField(\"region\", StringType(), True),\n",
    "        StructField(\"lat\", StringType(), True), # Will be converted to Double\n",
    "        StructField(\"lon\", StringType(), True), # Will be converted to Double\n",
    "        StructField(\"timezone_id\", StringType(), True),\n",
    "        StructField(\"localtime\", StringType(), True) # Will be converted to Timestamp\n",
    "    ]), True),\n",
    "    StructField(\"current\", StructType([\n",
    "        StructField(\"observation_time\", StringType(), True), # Will be converted to Timestamp\n",
    "        StructField(\"temperature\", DoubleType(), True),\n",
    "        StructField(\"weather_code\", IntegerType(), True),\n",
    "        StructField(\"weather_descriptions\", ArrayType(StringType(), True), True),\n",
    "        StructField(\"air_quality\", StructType([\n",
    "            StructField(\"co\", StringType(), True), # Will be converted to Double\n",
    "            StructField(\"no2\", StringType(), True), # Will be converted to Double\n",
    "            StructField(\"o3\", StringType(), True), # Will be converted to Double\n",
    "            StructField(\"so2\", StringType(), True), # Will be converted to Double\n",
    "            StructField(\"pm2_5\", StringType(), True), # Will be converted to Double\n",
    "            StructField(\"pm10\", StringType(), True), # Will be converted to Double\n",
    "            StructField(\"us-epa-index\", StringType(), True), # Will be converted to Integer\n",
    "            StructField(\"gb-defra-index\", StringType(), True) # Will be converted to Integer\n",
    "        ]), True),\n",
    "        StructField(\"wind_speed\", DoubleType(), True),\n",
    "        StructField(\"wind_degree\", IntegerType(), True),\n",
    "        StructField(\"wind_dir\", StringType(), True),\n",
    "        StructField(\"pressure\", DoubleType(), True),\n",
    "        StructField(\"precip\", DoubleType(), True),\n",
    "        StructField(\"humidity\", IntegerType(), True),\n",
    "        StructField(\"cloudcover\", IntegerType(), True),\n",
    "        StructField(\"feelslike\", DoubleType(), True),\n",
    "        StructField(\"uv_index\", IntegerType(), True),\n",
    "        StructField(\"visibility\", DoubleType(), True)\n",
    "    ]), True)\n",
    "])"
   ]
  },
  {
   "cell_type": "code",
   "execution_count": 0,
   "metadata": {
    "application/vnd.databricks.v1+cell": {
     "cellMetadata": {
      "byteLimit": 2048000,
      "rowLimit": 10000
     },
     "inputWidgets": {},
     "nuid": "26df0fae-41c6-46a9-9d07-502f9688bdf4",
     "showTitle": false,
     "tableResultSettingsMap": {},
     "title": ""
    }
   },
   "outputs": [],
   "source": [
    "parsed_df = bronze_df_incremental.withColumn(\"parsed_json\", from_json(col(\"raw_payload\"), json_schema))\\\n",
    "                    .withColumn(\"city_id\",\n",
    "                                when(col(\"parsed_json.location.name\") == \"Gramado\", 1)\n",
    "                                .when(col(\"parsed_json.location.name\") == \"Punta Del Este\", 2)\n",
    "                                .when(col(\"parsed_json.location.name\") == \"Punta Arenas\", 3)\n",
    "                                .otherwise(None))\n",
    "                    \n",
    "display(parsed_df.select(\"city_id\", \"raw_payload\", \"parsed_json\"))"
   ]
  },
  {
   "cell_type": "code",
   "execution_count": 0,
   "metadata": {
    "application/vnd.databricks.v1+cell": {
     "cellMetadata": {
      "byteLimit": 2048000,
      "rowLimit": 10000
     },
     "inputWidgets": {},
     "nuid": "39e5bc9c-597a-4e38-8a7f-c6cc7e3797f3",
     "showTitle": false,
     "tableResultSettingsMap": {},
     "title": ""
    }
   },
   "outputs": [],
   "source": [
    "# Flattening the nested columns into 3 dataframes (dimension location, weather measures and air quality measures)\n",
    "silver_dim_location_df = parsed_df.select(\n",
    "    col(\"city_id\"),\n",
    "    col(\"parsed_json.location.name\").alias(\"city_name\"),\n",
    "    col(\"parsed_json.location.country\").alias(\"country\"),\n",
    "    col(\"parsed_json.location.region\").alias(\"region\"),\n",
    "    (col(\"parsed_json.location.lat\").cast(DoubleType())).alias(\"latitude\"),\n",
    "    (col(\"parsed_json.location.lon\").cast(DoubleType())).alias(\"longitude\"),\n",
    "    col(\"parsed_json.location.timezone_id\").alias(\"timezone\")\n",
    ")\n",
    "\n",
    "silver_weather_df = parsed_df.select(\n",
    "    col(\"city_id\"),\n",
    "    to_timestamp(concat(col(\"ingestion_date\").cast(\"string\"), lit(\" \"), col(\"parsed_json.current.observation_time\")), \n",
    "                \"yyyy-MM-dd hh:mm a\").alias(\"observation_time_utf\"), # Gets the observation_time (e.g. \"10:30 PM\") and transforms to timestamp format and dtype\n",
    "    (col(\"parsed_json.location.localtime\").cast(TimestampType())).alias(\"localtime\"),\n",
    "    col(\"parsed_json.current.temperature\").alias(\"temperature_celsius\"),\n",
    "    col(\"parsed_json.current.weather_code\").alias(\"weather_code\"),\n",
    "    col(\"parsed_json.current.weather_descriptions\")[0].alias(\"weather_description\"),\n",
    "    col(\"parsed_json.current.wind_speed\").alias(\"wind_speed_kph\"),\n",
    "    col(\"parsed_json.current.wind_degree\").alias(\"wind_degree\"),\n",
    "    col(\"parsed_json.current.wind_dir\").alias(\"wind_direction\"),\n",
    "    col(\"parsed_json.current.pressure\").alias(\"pressure_mb\"),\n",
    "    col(\"parsed_json.current.precip\").alias(\"precipitation_mm\"),\n",
    "    col(\"parsed_json.current.humidity\").alias(\"humidity\"),\n",
    "    col(\"parsed_json.current.cloudcover\").alias(\"cloud_cover\"),\n",
    "    col(\"parsed_json.current.feelslike\").alias(\"feels_like_celsius\"),\n",
    "    col(\"parsed_json.current.uv_index\").alias(\"uv_index\"),\n",
    "    col(\"parsed_json.current.visibility\").alias(\"visibility_km\"),\n",
    "    col(\"ingestion_date\") # Keeping the ingestion metadata\n",
    ")\n",
    "\n",
    "silver_air_quality_df = parsed_df.select(\n",
    "    col(\"city_id\"),\n",
    "    to_timestamp(concat(col(\"ingestion_date\").cast(\"string\"), lit(\" \"), col(\"parsed_json.current.observation_time\")), \n",
    "                \"yyyy-MM-dd hh:mm a\").alias(\"observation_time_utf\"), # Gets the observation_time (e.g. \"10:30 PM\") and transforms to timestamp format and dtype\n",
    "    (col(\"parsed_json.location.localtime\").cast(TimestampType())).alias(\"localtime\"),\n",
    "    (col(\"parsed_json.current.air_quality.co\").cast(DoubleType())).alias(\"air_co\"),\n",
    "    (col(\"parsed_json.current.air_quality.no2\").cast(DoubleType())).alias(\"air_no2\"),\n",
    "    (col(\"parsed_json.current.air_quality.o3\").cast(DoubleType())).alias(\"air_o3\"),\n",
    "    (col(\"parsed_json.current.air_quality.so2\").cast(DoubleType())).alias(\"air_so2\"),\n",
    "    (col(\"parsed_json.current.air_quality.pm2_5\").cast(DoubleType())).alias(\"air_pm2_5\"),\n",
    "    (col(\"parsed_json.current.air_quality.pm10\").cast(DoubleType())).alias(\"air_pm10\"),\n",
    "    (col(\"parsed_json.current.air_quality.`us-epa-index`\").cast(IntegerType())).alias(\"air_quality_us_epa_index\"),\n",
    "    (col(\"parsed_json.current.air_quality.`gb-defra-index`\").cast(IntegerType())).alias(\"air_quality_gb_defra_index\"),\n",
    "    col(\"ingestion_date\") # Keeping the ingestion metadata\n",
    ")"
   ]
  },
  {
   "cell_type": "code",
   "execution_count": 0,
   "metadata": {
    "application/vnd.databricks.v1+cell": {
     "cellMetadata": {
      "byteLimit": 2048000,
      "rowLimit": 10000
     },
     "inputWidgets": {},
     "nuid": "ccd6268d-3a43-4420-88bd-c942fafbf0fd",
     "showTitle": false,
     "tableResultSettingsMap": {},
     "title": ""
    }
   },
   "outputs": [],
   "source": [
    "display(silver_dim_location_df)\n",
    "display(silver_weather_df)\n",
    "display(silver_air_quality_df)"
   ]
  },
  {
   "cell_type": "code",
   "execution_count": 0,
   "metadata": {
    "application/vnd.databricks.v1+cell": {
     "cellMetadata": {
      "byteLimit": 2048000,
      "rowLimit": 10000
     },
     "inputWidgets": {},
     "nuid": "449b1370-0208-418d-8097-05094c58b4bb",
     "showTitle": false,
     "tableResultSettingsMap": {},
     "title": ""
    }
   },
   "outputs": [],
   "source": [
    "# Writing the data to the silver tables\n",
    "silver_dim_location_df.write.format(\"delta\").mode(\"overwrite\").option(\"overwriteSchema\", \"true\").save(silver_dim_location_path)\n",
    "print(f\"{silver_dim_location_df.count()} rows added to {silver_dim_location_name}.\")\n",
    "\n",
    "silver_weather_df.write.format(\"delta\").mode(\"append\").option(\"mergeSchema\", \"true\").save(silver_weather_path)\n",
    "print(f\"{silver_weather_df.count()} rows added to {silver_weather_name}.\")\n",
    "\n",
    "silver_air_quality_df.write.format(\"delta\").mode(\"append\").option(\"mergeSchema\", \"true\").save(silver_air_quality_path)\n",
    "print(f\"{silver_air_quality_df.count()} rows added to {silver_air_quality_name}.\")"
   ]
  }
 ],
 "metadata": {
  "application/vnd.databricks.v1+notebook": {
   "computePreferences": null,
   "dashboards": [],
   "environmentMetadata": {
    "base_environment": "",
    "environment_version": "2"
   },
   "inputWidgetPreferences": null,
   "language": "python",
   "notebookMetadata": {
    "mostRecentlyExecutedCommandWithImplicitDF": {
     "commandId": -1,
     "dataframes": [
      "_sqldf"
     ]
    },
    "pythonIndentUnit": 4
   },
   "notebookName": "02-transform-bronze-to-silver",
   "widgets": {}
  },
  "language_info": {
   "name": "python"
  }
 },
 "nbformat": 4,
 "nbformat_minor": 0
}
